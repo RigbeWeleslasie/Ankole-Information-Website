{
  "cells": [
    {
      "cell_type": "markdown",
      "metadata": {
        "id": "view-in-github",
        "colab_type": "text"
      },
      "source": [
        "<a href=\"https://colab.research.google.com/github/RigbeWeleslasie/Ankole-Information-Website/blob/main/BreastCncer.ipynb\" target=\"_parent\"><img src=\"https://colab.research.google.com/assets/colab-badge.svg\" alt=\"Open In Colab\"/></a>"
      ]
    },
    {
      "cell_type": "code",
      "execution_count": null,
      "id": "a9e11692-1973-49c0-a007-1aca7427302e",
      "metadata": {
        "colab": {
          "base_uri": "https://localhost:8080/"
        },
        "id": "a9e11692-1973-49c0-a007-1aca7427302e",
        "outputId": "4b61ee4b-34d4-4e30-e5aa-7aacfecc8dbd"
      },
      "outputs": [
        {
          "name": "stdout",
          "output_type": "stream",
          "text": [
            "Requirement already satisfied: tensorflow in /usr/local/lib/python3.11/dist-packages (2.19.0)\n",
            "Requirement already satisfied: opencv-python in /usr/local/lib/python3.11/dist-packages (4.12.0.88)\n",
            "Requirement already satisfied: scikit-learn in /usr/local/lib/python3.11/dist-packages (1.6.1)\n",
            "Requirement already satisfied: matplotlib in /usr/local/lib/python3.11/dist-packages (3.10.0)\n",
            "Requirement already satisfied: split-folders in /usr/local/lib/python3.11/dist-packages (0.5.1)\n",
            "Requirement already satisfied: absl-py>=1.0.0 in /usr/local/lib/python3.11/dist-packages (from tensorflow) (1.4.0)\n",
            "Requirement already satisfied: astunparse>=1.6.0 in /usr/local/lib/python3.11/dist-packages (from tensorflow) (1.6.3)\n",
            "Requirement already satisfied: flatbuffers>=24.3.25 in /usr/local/lib/python3.11/dist-packages (from tensorflow) (25.2.10)\n",
            "Requirement already satisfied: gast!=0.5.0,!=0.5.1,!=0.5.2,>=0.2.1 in /usr/local/lib/python3.11/dist-packages (from tensorflow) (0.6.0)\n",
            "Requirement already satisfied: google-pasta>=0.1.1 in /usr/local/lib/python3.11/dist-packages (from tensorflow) (0.2.0)\n",
            "Requirement already satisfied: libclang>=13.0.0 in /usr/local/lib/python3.11/dist-packages (from tensorflow) (18.1.1)\n",
            "Requirement already satisfied: opt-einsum>=2.3.2 in /usr/local/lib/python3.11/dist-packages (from tensorflow) (3.4.0)\n",
            "Requirement already satisfied: packaging in /usr/local/lib/python3.11/dist-packages (from tensorflow) (25.0)\n",
            "Requirement already satisfied: protobuf!=4.21.0,!=4.21.1,!=4.21.2,!=4.21.3,!=4.21.4,!=4.21.5,<6.0.0dev,>=3.20.3 in /usr/local/lib/python3.11/dist-packages (from tensorflow) (5.29.5)\n",
            "Requirement already satisfied: requests<3,>=2.21.0 in /usr/local/lib/python3.11/dist-packages (from tensorflow) (2.32.3)\n",
            "Requirement already satisfied: setuptools in /usr/local/lib/python3.11/dist-packages (from tensorflow) (75.2.0)\n",
            "Requirement already satisfied: six>=1.12.0 in /usr/local/lib/python3.11/dist-packages (from tensorflow) (1.17.0)\n",
            "Requirement already satisfied: termcolor>=1.1.0 in /usr/local/lib/python3.11/dist-packages (from tensorflow) (3.1.0)\n",
            "Requirement already satisfied: typing-extensions>=3.6.6 in /usr/local/lib/python3.11/dist-packages (from tensorflow) (4.14.1)\n",
            "Requirement already satisfied: wrapt>=1.11.0 in /usr/local/lib/python3.11/dist-packages (from tensorflow) (1.17.3)\n",
            "Requirement already satisfied: grpcio<2.0,>=1.24.3 in /usr/local/lib/python3.11/dist-packages (from tensorflow) (1.74.0)\n",
            "Requirement already satisfied: tensorboard~=2.19.0 in /usr/local/lib/python3.11/dist-packages (from tensorflow) (2.19.0)\n",
            "Requirement already satisfied: keras>=3.5.0 in /usr/local/lib/python3.11/dist-packages (from tensorflow) (3.10.0)\n",
            "Requirement already satisfied: numpy<2.2.0,>=1.26.0 in /usr/local/lib/python3.11/dist-packages (from tensorflow) (2.0.2)\n",
            "Requirement already satisfied: h5py>=3.11.0 in /usr/local/lib/python3.11/dist-packages (from tensorflow) (3.14.0)\n",
            "Requirement already satisfied: ml-dtypes<1.0.0,>=0.5.1 in /usr/local/lib/python3.11/dist-packages (from tensorflow) (0.5.3)\n",
            "Requirement already satisfied: tensorflow-io-gcs-filesystem>=0.23.1 in /usr/local/lib/python3.11/dist-packages (from tensorflow) (0.37.1)\n",
            "Requirement already satisfied: scipy>=1.6.0 in /usr/local/lib/python3.11/dist-packages (from scikit-learn) (1.16.1)\n",
            "Requirement already satisfied: joblib>=1.2.0 in /usr/local/lib/python3.11/dist-packages (from scikit-learn) (1.5.1)\n",
            "Requirement already satisfied: threadpoolctl>=3.1.0 in /usr/local/lib/python3.11/dist-packages (from scikit-learn) (3.6.0)\n",
            "Requirement already satisfied: contourpy>=1.0.1 in /usr/local/lib/python3.11/dist-packages (from matplotlib) (1.3.3)\n",
            "Requirement already satisfied: cycler>=0.10 in /usr/local/lib/python3.11/dist-packages (from matplotlib) (0.12.1)\n",
            "Requirement already satisfied: fonttools>=4.22.0 in /usr/local/lib/python3.11/dist-packages (from matplotlib) (4.59.0)\n",
            "Requirement already satisfied: kiwisolver>=1.3.1 in /usr/local/lib/python3.11/dist-packages (from matplotlib) (1.4.9)\n",
            "Requirement already satisfied: pillow>=8 in /usr/local/lib/python3.11/dist-packages (from matplotlib) (11.3.0)\n",
            "Requirement already satisfied: pyparsing>=2.3.1 in /usr/local/lib/python3.11/dist-packages (from matplotlib) (3.2.3)\n",
            "Requirement already satisfied: python-dateutil>=2.7 in /usr/local/lib/python3.11/dist-packages (from matplotlib) (2.9.0.post0)\n",
            "Requirement already satisfied: wheel<1.0,>=0.23.0 in /usr/local/lib/python3.11/dist-packages (from astunparse>=1.6.0->tensorflow) (0.45.1)\n",
            "Requirement already satisfied: rich in /usr/local/lib/python3.11/dist-packages (from keras>=3.5.0->tensorflow) (13.9.4)\n",
            "Requirement already satisfied: namex in /usr/local/lib/python3.11/dist-packages (from keras>=3.5.0->tensorflow) (0.1.0)\n",
            "Requirement already satisfied: optree in /usr/local/lib/python3.11/dist-packages (from keras>=3.5.0->tensorflow) (0.17.0)\n",
            "Requirement already satisfied: charset-normalizer<4,>=2 in /usr/local/lib/python3.11/dist-packages (from requests<3,>=2.21.0->tensorflow) (3.4.3)\n",
            "Requirement already satisfied: idna<4,>=2.5 in /usr/local/lib/python3.11/dist-packages (from requests<3,>=2.21.0->tensorflow) (3.10)\n",
            "Requirement already satisfied: urllib3<3,>=1.21.1 in /usr/local/lib/python3.11/dist-packages (from requests<3,>=2.21.0->tensorflow) (2.5.0)\n",
            "Requirement already satisfied: certifi>=2017.4.17 in /usr/local/lib/python3.11/dist-packages (from requests<3,>=2.21.0->tensorflow) (2025.8.3)\n",
            "Requirement already satisfied: markdown>=2.6.8 in /usr/local/lib/python3.11/dist-packages (from tensorboard~=2.19.0->tensorflow) (3.8.2)\n",
            "Requirement already satisfied: tensorboard-data-server<0.8.0,>=0.7.0 in /usr/local/lib/python3.11/dist-packages (from tensorboard~=2.19.0->tensorflow) (0.7.2)\n",
            "Requirement already satisfied: werkzeug>=1.0.1 in /usr/local/lib/python3.11/dist-packages (from tensorboard~=2.19.0->tensorflow) (3.1.3)\n",
            "Requirement already satisfied: MarkupSafe>=2.1.1 in /usr/local/lib/python3.11/dist-packages (from werkzeug>=1.0.1->tensorboard~=2.19.0->tensorflow) (3.0.2)\n",
            "Requirement already satisfied: markdown-it-py>=2.2.0 in /usr/local/lib/python3.11/dist-packages (from rich->keras>=3.5.0->tensorflow) (4.0.0)\n",
            "Requirement already satisfied: pygments<3.0.0,>=2.13.0 in /usr/local/lib/python3.11/dist-packages (from rich->keras>=3.5.0->tensorflow) (2.19.2)\n",
            "Requirement already satisfied: mdurl~=0.1 in /usr/local/lib/python3.11/dist-packages (from markdown-it-py>=2.2.0->rich->keras>=3.5.0->tensorflow) (0.1.2)\n"
          ]
        }
      ],
      "source": [
        "pip install tensorflow opencv-python scikit-learn matplotlib split-folders"
      ]
    },
    {
      "cell_type": "code",
      "execution_count": null,
      "id": "h28z9NDlWQub",
      "metadata": {
        "colab": {
          "base_uri": "https://localhost:8080/"
        },
        "id": "h28z9NDlWQub",
        "outputId": "c6264f86-e174-4681-e366-4f58c795ceeb"
      },
      "outputs": [
        {
          "name": "stdout",
          "output_type": "stream",
          "text": [
            "Mounted at /content/drive\n"
          ]
        }
      ],
      "source": [
        "from google.colab import drive\n",
        "drive.mount('/content/drive')"
      ]
    },
    {
      "cell_type": "code",
      "execution_count": null,
      "id": "c380abe7-6af4-4416-bae9-a4573a78fa6c",
      "metadata": {
        "colab": {
          "base_uri": "https://localhost:8080/",
          "height": 321
        },
        "id": "c380abe7-6af4-4416-bae9-a4573a78fa6c",
        "outputId": "0ffab0f8-53a8-4179-b2c4-7ae93f1d7fdb"
      },
      "outputs": [
        {
          "ename": "ValueError",
          "evalue": "The provided input folder \"/content/drive/MyDrive/DAS/BUSI_Corrected\" does not exists.",
          "output_type": "error",
          "traceback": [
            "\u001b[0;31m---------------------------------------------------------------------------\u001b[0m",
            "\u001b[0;31mValueError\u001b[0m                                Traceback (most recent call last)",
            "\u001b[0;32m/tmp/ipython-input-2788643858.py\u001b[0m in \u001b[0;36m<cell line: 0>\u001b[0;34m()\u001b[0m\n\u001b[1;32m      2\u001b[0m \u001b[0minput_dir\u001b[0m \u001b[0;34m=\u001b[0m \u001b[0;34m\"/content/drive/MyDrive/DAS/BUSI_Corrected\"\u001b[0m\u001b[0;34m\u001b[0m\u001b[0;34m\u001b[0m\u001b[0m\n\u001b[1;32m      3\u001b[0m \u001b[0moutput_dir\u001b[0m \u001b[0;34m=\u001b[0m \u001b[0;34m\"/content/drive/MyDrive/DAS/BUSI_Corrected_split\"\u001b[0m\u001b[0;34m\u001b[0m\u001b[0;34m\u001b[0m\u001b[0m\n\u001b[0;32m----> 4\u001b[0;31m \u001b[0msplitfolders\u001b[0m\u001b[0;34m.\u001b[0m\u001b[0mratio\u001b[0m\u001b[0;34m(\u001b[0m\u001b[0minput_dir\u001b[0m\u001b[0;34m,\u001b[0m \u001b[0moutput\u001b[0m\u001b[0;34m=\u001b[0m\u001b[0moutput_dir\u001b[0m\u001b[0;34m,\u001b[0m \u001b[0mseed\u001b[0m\u001b[0;34m=\u001b[0m\u001b[0;36m1337\u001b[0m\u001b[0;34m,\u001b[0m \u001b[0mratio\u001b[0m\u001b[0;34m=\u001b[0m\u001b[0;34m(\u001b[0m\u001b[0;36m.70\u001b[0m\u001b[0;34m,\u001b[0m \u001b[0;36m.15\u001b[0m\u001b[0;34m,\u001b[0m \u001b[0;36m.15\u001b[0m\u001b[0;34m)\u001b[0m\u001b[0;34m)\u001b[0m\u001b[0;34m\u001b[0m\u001b[0;34m\u001b[0m\u001b[0m\n\u001b[0m",
            "\u001b[0;32m/usr/local/lib/python3.12/dist-packages/splitfolders/split.py\u001b[0m in \u001b[0;36mratio\u001b[0;34m(input, output, seed, ratio, group_prefix, move)\u001b[0m\n\u001b[1;32m     79\u001b[0m         \u001b[0;32mraise\u001b[0m \u001b[0mValueError\u001b[0m\u001b[0;34m(\u001b[0m\u001b[0;34m\"`ratio` should\"\u001b[0m\u001b[0;34m)\u001b[0m\u001b[0;34m\u001b[0m\u001b[0;34m\u001b[0m\u001b[0m\n\u001b[1;32m     80\u001b[0m \u001b[0;34m\u001b[0m\u001b[0m\n\u001b[0;32m---> 81\u001b[0;31m     \u001b[0mcheck_input_format\u001b[0m\u001b[0;34m(\u001b[0m\u001b[0minput\u001b[0m\u001b[0;34m)\u001b[0m\u001b[0;34m\u001b[0m\u001b[0;34m\u001b[0m\u001b[0m\n\u001b[0m\u001b[1;32m     82\u001b[0m \u001b[0;34m\u001b[0m\u001b[0m\n\u001b[1;32m     83\u001b[0m     \u001b[0;32mif\u001b[0m \u001b[0muse_tqdm\u001b[0m\u001b[0;34m:\u001b[0m\u001b[0;34m\u001b[0m\u001b[0;34m\u001b[0m\u001b[0m\n",
            "\u001b[0;32m/usr/local/lib/python3.12/dist-packages/splitfolders/split.py\u001b[0m in \u001b[0;36mcheck_input_format\u001b[0;34m(input)\u001b[0m\n\u001b[1;32m     54\u001b[0m         \u001b[0;32mif\u001b[0m \u001b[0;32mnot\u001b[0m \u001b[0mp_input\u001b[0m\u001b[0;34m.\u001b[0m\u001b[0mis_absolute\u001b[0m\u001b[0;34m(\u001b[0m\u001b[0;34m)\u001b[0m\u001b[0;34m:\u001b[0m\u001b[0;34m\u001b[0m\u001b[0;34m\u001b[0m\u001b[0m\n\u001b[1;32m     55\u001b[0m             \u001b[0merr_msg\u001b[0m \u001b[0;34m+=\u001b[0m \u001b[0;34mf' Your relative path cannot be found from the current working directory \"{Path.cwd()}\".'\u001b[0m\u001b[0;34m\u001b[0m\u001b[0;34m\u001b[0m\u001b[0m\n\u001b[0;32m---> 56\u001b[0;31m         \u001b[0;32mraise\u001b[0m \u001b[0mValueError\u001b[0m\u001b[0;34m(\u001b[0m\u001b[0merr_msg\u001b[0m\u001b[0;34m)\u001b[0m\u001b[0;34m\u001b[0m\u001b[0;34m\u001b[0m\u001b[0m\n\u001b[0m\u001b[1;32m     57\u001b[0m \u001b[0;34m\u001b[0m\u001b[0m\n\u001b[1;32m     58\u001b[0m     \u001b[0;32mif\u001b[0m \u001b[0;32mnot\u001b[0m \u001b[0mp_input\u001b[0m\u001b[0;34m.\u001b[0m\u001b[0mis_dir\u001b[0m\u001b[0;34m(\u001b[0m\u001b[0;34m)\u001b[0m\u001b[0;34m:\u001b[0m\u001b[0;34m\u001b[0m\u001b[0;34m\u001b[0m\u001b[0m\n",
            "\u001b[0;31mValueError\u001b[0m: The provided input folder \"/content/drive/MyDrive/DAS/BUSI_Corrected\" does not exists."
          ]
        }
      ],
      "source": [
        "import splitfolders\n",
        "input_dir = \"/content/drive/MyDrive/DAS/BUSI_Corrected\"\n",
        "output_dir = \"/content/drive/MyDrive/DAS/BUSI_Corrected_split\"\n",
        "splitfolders.ratio(input_dir, output=output_dir, seed=1337, ratio=(.70, .15, .15))"
      ]
    },
    {
      "cell_type": "code",
      "execution_count": null,
      "id": "c7b5a48c",
      "metadata": {
        "colab": {
          "base_uri": "https://localhost:8080/"
        },
        "id": "c7b5a48c",
        "outputId": "6f9c2ab5-390d-4cad-af79-80dc7ee02b73"
      },
      "outputs": [
        {
          "name": "stdout",
          "output_type": "stream",
          "text": [
            "The directory '/content/drive/MyDrive/DAS/BUSI_Corrected' does not exist. Please verify the path in your Google Drive.\n"
          ]
        }
      ],
      "source": [
        "import os\n",
        "\n",
        "input_dir_path = \"/content/drive/MyDrive/DAS/BUSI_Corrected\"\n",
        "\n",
        "if os.path.exists(input_dir_path):\n",
        "    print(f\"The directory '{input_dir_path}' exists.\")\n",
        "else:\n",
        "    print(f\"The directory '{input_dir_path}' does not exist. Please verify the path in your Google Drive.\")"
      ]
    },
    {
      "cell_type": "code",
      "execution_count": null,
      "id": "75025789",
      "metadata": {
        "colab": {
          "base_uri": "https://localhost:8080/"
        },
        "id": "75025789",
        "outputId": "27d8cebf-6bed-4a4a-e1bd-b0af922631ea"
      },
      "outputs": [
        {
          "name": "stdout",
          "output_type": "stream",
          "text": [
            "Collecting split-folders\n",
            "  Downloading split_folders-0.5.1-py3-none-any.whl.metadata (6.2 kB)\n",
            "Downloading split_folders-0.5.1-py3-none-any.whl (8.4 kB)\n",
            "Installing collected packages: split-folders\n",
            "Successfully installed split-folders-0.5.1\n"
          ]
        }
      ],
      "source": [
        "!pip install split-folders"
      ]
    },
    {
      "cell_type": "code",
      "execution_count": null,
      "id": "229b2348",
      "metadata": {
        "colab": {
          "base_uri": "https://localhost:8080/",
          "height": 321
        },
        "id": "229b2348",
        "outputId": "ef111496-9d73-434a-cfdd-a3c6106c2c54"
      },
      "outputs": [
        {
          "ename": "ValueError",
          "evalue": "The provided input folder \"/content/drive/MyDrive/DAS/BUSI_Corrected\" does not exists.",
          "output_type": "error",
          "traceback": [
            "\u001b[0;31m---------------------------------------------------------------------------\u001b[0m",
            "\u001b[0;31mValueError\u001b[0m                                Traceback (most recent call last)",
            "\u001b[0;32m/tmp/ipython-input-2788643858.py\u001b[0m in \u001b[0;36m<cell line: 0>\u001b[0;34m()\u001b[0m\n\u001b[1;32m      2\u001b[0m \u001b[0minput_dir\u001b[0m \u001b[0;34m=\u001b[0m \u001b[0;34m\"/content/drive/MyDrive/DAS/BUSI_Corrected\"\u001b[0m\u001b[0;34m\u001b[0m\u001b[0;34m\u001b[0m\u001b[0m\n\u001b[1;32m      3\u001b[0m \u001b[0moutput_dir\u001b[0m \u001b[0;34m=\u001b[0m \u001b[0;34m\"/content/drive/MyDrive/DAS/BUSI_Corrected_split\"\u001b[0m\u001b[0;34m\u001b[0m\u001b[0;34m\u001b[0m\u001b[0m\n\u001b[0;32m----> 4\u001b[0;31m \u001b[0msplitfolders\u001b[0m\u001b[0;34m.\u001b[0m\u001b[0mratio\u001b[0m\u001b[0;34m(\u001b[0m\u001b[0minput_dir\u001b[0m\u001b[0;34m,\u001b[0m \u001b[0moutput\u001b[0m\u001b[0;34m=\u001b[0m\u001b[0moutput_dir\u001b[0m\u001b[0;34m,\u001b[0m \u001b[0mseed\u001b[0m\u001b[0;34m=\u001b[0m\u001b[0;36m1337\u001b[0m\u001b[0;34m,\u001b[0m \u001b[0mratio\u001b[0m\u001b[0;34m=\u001b[0m\u001b[0;34m(\u001b[0m\u001b[0;36m.70\u001b[0m\u001b[0;34m,\u001b[0m \u001b[0;36m.15\u001b[0m\u001b[0;34m,\u001b[0m \u001b[0;36m.15\u001b[0m\u001b[0;34m)\u001b[0m\u001b[0;34m)\u001b[0m\u001b[0;34m\u001b[0m\u001b[0;34m\u001b[0m\u001b[0m\n\u001b[0m",
            "\u001b[0;32m/usr/local/lib/python3.12/dist-packages/splitfolders/split.py\u001b[0m in \u001b[0;36mratio\u001b[0;34m(input, output, seed, ratio, group_prefix, move)\u001b[0m\n\u001b[1;32m     79\u001b[0m         \u001b[0;32mraise\u001b[0m \u001b[0mValueError\u001b[0m\u001b[0;34m(\u001b[0m\u001b[0;34m\"`ratio` should\"\u001b[0m\u001b[0;34m)\u001b[0m\u001b[0;34m\u001b[0m\u001b[0;34m\u001b[0m\u001b[0m\n\u001b[1;32m     80\u001b[0m \u001b[0;34m\u001b[0m\u001b[0m\n\u001b[0;32m---> 81\u001b[0;31m     \u001b[0mcheck_input_format\u001b[0m\u001b[0;34m(\u001b[0m\u001b[0minput\u001b[0m\u001b[0;34m)\u001b[0m\u001b[0;34m\u001b[0m\u001b[0;34m\u001b[0m\u001b[0m\n\u001b[0m\u001b[1;32m     82\u001b[0m \u001b[0;34m\u001b[0m\u001b[0m\n\u001b[1;32m     83\u001b[0m     \u001b[0;32mif\u001b[0m \u001b[0muse_tqdm\u001b[0m\u001b[0;34m:\u001b[0m\u001b[0;34m\u001b[0m\u001b[0;34m\u001b[0m\u001b[0m\n",
            "\u001b[0;32m/usr/local/lib/python3.12/dist-packages/splitfolders/split.py\u001b[0m in \u001b[0;36mcheck_input_format\u001b[0;34m(input)\u001b[0m\n\u001b[1;32m     54\u001b[0m         \u001b[0;32mif\u001b[0m \u001b[0;32mnot\u001b[0m \u001b[0mp_input\u001b[0m\u001b[0;34m.\u001b[0m\u001b[0mis_absolute\u001b[0m\u001b[0;34m(\u001b[0m\u001b[0;34m)\u001b[0m\u001b[0;34m:\u001b[0m\u001b[0;34m\u001b[0m\u001b[0;34m\u001b[0m\u001b[0m\n\u001b[1;32m     55\u001b[0m             \u001b[0merr_msg\u001b[0m \u001b[0;34m+=\u001b[0m \u001b[0;34mf' Your relative path cannot be found from the current working directory \"{Path.cwd()}\".'\u001b[0m\u001b[0;34m\u001b[0m\u001b[0;34m\u001b[0m\u001b[0m\n\u001b[0;32m---> 56\u001b[0;31m         \u001b[0;32mraise\u001b[0m \u001b[0mValueError\u001b[0m\u001b[0;34m(\u001b[0m\u001b[0merr_msg\u001b[0m\u001b[0;34m)\u001b[0m\u001b[0;34m\u001b[0m\u001b[0;34m\u001b[0m\u001b[0m\n\u001b[0m\u001b[1;32m     57\u001b[0m \u001b[0;34m\u001b[0m\u001b[0m\n\u001b[1;32m     58\u001b[0m     \u001b[0;32mif\u001b[0m \u001b[0;32mnot\u001b[0m \u001b[0mp_input\u001b[0m\u001b[0;34m.\u001b[0m\u001b[0mis_dir\u001b[0m\u001b[0;34m(\u001b[0m\u001b[0;34m)\u001b[0m\u001b[0;34m:\u001b[0m\u001b[0;34m\u001b[0m\u001b[0;34m\u001b[0m\u001b[0m\n",
            "\u001b[0;31mValueError\u001b[0m: The provided input folder \"/content/drive/MyDrive/DAS/BUSI_Corrected\" does not exists."
          ]
        }
      ],
      "source": [
        "import splitfolders\n",
        "input_dir = \"/content/drive/MyDrive/DAS/BUSI_Corrected\"\n",
        "output_dir = \"/content/drive/MyDrive/DAS/BUSI_Corrected_split\"\n",
        "splitfolders.ratio(input_dir, output=output_dir, seed=1337, ratio=(.70, .15, .15))"
      ]
    },
    {
      "cell_type": "code",
      "execution_count": null,
      "id": "hp-1_zeVWebQ",
      "metadata": {
        "colab": {
          "base_uri": "https://localhost:8080/"
        },
        "id": "hp-1_zeVWebQ",
        "outputId": "86191bf5-a393-401e-a3d9-6f32159d699f"
      },
      "outputs": [
        {
          "name": "stdout",
          "output_type": "stream",
          "text": [
            "Drive already mounted at /content/drive; to attempt to forcibly remount, call drive.mount(\"/content/drive\", force_remount=True).\n"
          ]
        }
      ],
      "source": [
        "from google.colab import drive\n",
        "drive.mount('/content/drive')"
      ]
    },
    {
      "cell_type": "code",
      "execution_count": null,
      "id": "LbUmlxdm03fZ",
      "metadata": {
        "id": "LbUmlxdm03fZ"
      },
      "outputs": [],
      "source": []
    },
    {
      "cell_type": "code",
      "execution_count": null,
      "id": "d0bef356-51fb-4c42-919a-519ff2552794",
      "metadata": {
        "id": "d0bef356-51fb-4c42-919a-519ff2552794"
      },
      "outputs": [],
      "source": [
        "import cv2, os, glob\n",
        "import numpy as np\n",
        "import tensorflow as tf\n",
        "IMG_SIZE = (224, 224)\n",
        "def load_with_opencv(filepath, label):\n",
        "    img = cv2.imread(filepath, cv2.IMREAD_COLOR)  # always 3 channels\n",
        "     # convert to RGB\n",
        "    img = cv2.cvtColor(img, cv2.COLOR_BGR2RGB)\n",
        "    img = cv2.resize(img, IMG_SIZE)\n",
        "    img = img.astype(\"float32\") / 255.0\n",
        "    return img, label\n",
        "def load_files(root):\n",
        "    classes = [\"benign\",\"malignant\",\"normal\"]\n",
        "    filepaths, labels = [], []\n",
        "    for cls in classes:\n",
        "        for fp in glob.glob(os.path.join(root, cls, \"*\")):\n",
        "            if fp.lower().endswith((\".png\",\".jpg\",\".jpeg\")):\n",
        "                filepaths.append(fp)\n",
        "                labels.append(1 if cls==\"malignant\" else 0)  # cancer=1\n",
        "    return np.array(filepaths), np.array(labels)\n",
        "train_fp, train_y = load_files(\"/content/drive/MyDrive/DAS/BUSI_Corrected_split/train\")\n",
        "val_fp,   val_y   = load_files(\"/content/drive/MyDrive/DAS/BUSI_Corrected_split/val\")\n",
        "test_fp,  test_y  = load_files(\"/content/drive/MyDrive/DAS/BUSI_Corrected_split/test\")"
      ]
    },
    {
      "cell_type": "code",
      "execution_count": null,
      "id": "1a6b81de-ed46-44b0-b187-5b288703e376",
      "metadata": {
        "colab": {
          "base_uri": "https://localhost:8080/"
        },
        "id": "1a6b81de-ed46-44b0-b187-5b288703e376",
        "outputId": "9dd2e1e8-90e1-402e-eb34-4a77e5bb08b9"
      },
      "outputs": [
        {
          "name": "stdout",
          "output_type": "stream",
          "text": [
            "(TensorSpec(shape=(None, 224, 224, 3), dtype=tf.float32, name=None), TensorSpec(shape=(None,), dtype=tf.float32, name=None))\n"
          ]
        }
      ],
      "source": [
        "print(train_ds.element_spec)"
      ]
    },
    {
      "cell_type": "code",
      "execution_count": null,
      "id": "ac12829b-2cbf-4c69-b07c-a23720aaecd7",
      "metadata": {
        "id": "ac12829b-2cbf-4c69-b07c-a23720aaecd7"
      },
      "outputs": [],
      "source": [
        "def make_dataset(filepaths, labels, training=False):\n",
        "    imgs = []\n",
        "    for i, fp in enumerate(filepaths):\n",
        "        img, _ = load_with_opencv(fp, labels[i])\n",
        "        imgs.append(img)\n",
        "    X = np.array(imgs, dtype=\"float32\")\n",
        "    y = np.array(labels, dtype=\"float32\")\n",
        "    ds = tf.data.Dataset.from_tensor_slices((X, y))\n",
        "    if training:\n",
        "        ds = ds.shuffle(buffer_size=1024) # Use a fixed buffer size for shuffling\n",
        "    ds = ds.batch(32).prefetch(tf.data.AUTOTUNE)\n",
        "    return ds\n",
        "train_ds = make_dataset(train_fp, train_y, training=True)\n",
        "val_ds   = make_dataset(val_fp, val_y)\n",
        "test_ds  = make_dataset(test_fp, test_y)"
      ]
    },
    {
      "cell_type": "code",
      "execution_count": null,
      "id": "dfdf2e98-3991-4dfb-bb89-f636611d9ebc",
      "metadata": {
        "colab": {
          "base_uri": "https://localhost:8080/"
        },
        "id": "dfdf2e98-3991-4dfb-bb89-f636611d9ebc",
        "outputId": "9453a4a3-9298-4cb4-abc1-e4a34810e5b4"
      },
      "outputs": [
        {
          "name": "stdout",
          "output_type": "stream",
          "text": [
            "Found 524 files belonging to 3 classes.\n",
            "Found 111 files belonging to 3 classes.\n"
          ]
        }
      ],
      "source": [
        "from tensorflow import keras\n",
        "from tensorflow.keras import layers\n",
        "from tensorflow.keras.preprocessing import image_dataset_from_directory\n",
        "import tensorflow as tf\n",
        "\n",
        "\n",
        "def preprocess_image(image, label):\n",
        "\n",
        "    image = tf.image.grayscale_to_rgb(image) if image.shape[-1] == 1 else image\n",
        "    return image, label\n",
        "\n",
        "train_dir = '/content/drive/MyDrive/DAS/BUSI_Corrected_split/train'\n",
        "val_dir = '/content/drive/MyDrive/DAS/BUSI_Corrected_split/val'\n",
        "\n",
        "\n",
        "train_ds_initial = image_dataset_from_directory(\n",
        "    train_dir,\n",
        "    image_size=IMG_SIZE,\n",
        "    batch_size=32,\n",
        "    color_mode='grayscale',\n",
        "    label_mode='int',\n",
        "    class_names=['benign', 'malignant', 'normal']\n",
        ")\n",
        "\n",
        "val_ds_initial = image_dataset_from_directory(\n",
        "     val_dir,\n",
        "    image_size=IMG_SIZE,\n",
        "    batch_size=32,\n",
        "    color_mode='grayscale',\n",
        "    label_mode='int', #\n",
        "    class_names=['benign', 'malignant', 'normal'] )\n",
        "\n",
        "\n",
        "train_ds = train_ds.map(preprocess_image)\n",
        "val_ds = val_ds.map(preprocess_image)"
      ]
    },
    {
      "cell_type": "code",
      "execution_count": null,
      "id": "42599ca6-3297-4c2c-a4e1-2e59531a1a79",
      "metadata": {
        "colab": {
          "base_uri": "https://localhost:8080/",
          "height": 825
        },
        "id": "42599ca6-3297-4c2c-a4e1-2e59531a1a79",
        "outputId": "da377826-ccf4-41a1-a3dc-2a27377bf10b"
      },
      "outputs": [
        {
          "name": "stderr",
          "output_type": "stream",
          "text": [
            "/usr/local/lib/python3.11/dist-packages/keras/src/layers/convolutional/base_conv.py:113: UserWarning: Do not pass an `input_shape`/`input_dim` argument to a layer. When using Sequential models, prefer using an `Input(shape)` object as the first layer in the model instead.\n",
            "  super().__init__(activity_regularizer=activity_regularizer, **kwargs)\n"
          ]
        },
        {
          "data": {
            "text/html": [
              "<pre style=\"white-space:pre;overflow-x:auto;line-height:normal;font-family:Menlo,'DejaVu Sans Mono',consolas,'Courier New',monospace\"><span style=\"font-weight: bold\">Model: \"sequential\"</span>\n",
              "</pre>\n"
            ],
            "text/plain": [
              "\u001b[1mModel: \"sequential\"\u001b[0m\n"
            ]
          },
          "metadata": {},
          "output_type": "display_data"
        },
        {
          "data": {
            "text/html": [
              "<pre style=\"white-space:pre;overflow-x:auto;line-height:normal;font-family:Menlo,'DejaVu Sans Mono',consolas,'Courier New',monospace\">┏━━━━━━━━━━━━━━━━━━━━━━━━━━━━━━━━━┳━━━━━━━━━━━━━━━━━━━━━━━━┳━━━━━━━━━━━━━━━┓\n",
              "┃<span style=\"font-weight: bold\"> Layer (type)                    </span>┃<span style=\"font-weight: bold\"> Output Shape           </span>┃<span style=\"font-weight: bold\">       Param # </span>┃\n",
              "┡━━━━━━━━━━━━━━━━━━━━━━━━━━━━━━━━━╇━━━━━━━━━━━━━━━━━━━━━━━━╇━━━━━━━━━━━━━━━┩\n",
              "│ conv2d (<span style=\"color: #0087ff; text-decoration-color: #0087ff\">Conv2D</span>)                 │ (<span style=\"color: #00d7ff; text-decoration-color: #00d7ff\">None</span>, <span style=\"color: #00af00; text-decoration-color: #00af00\">222</span>, <span style=\"color: #00af00; text-decoration-color: #00af00\">222</span>, <span style=\"color: #00af00; text-decoration-color: #00af00\">32</span>)   │           <span style=\"color: #00af00; text-decoration-color: #00af00\">896</span> │\n",
              "├─────────────────────────────────┼────────────────────────┼───────────────┤\n",
              "│ max_pooling2d (<span style=\"color: #0087ff; text-decoration-color: #0087ff\">MaxPooling2D</span>)    │ (<span style=\"color: #00d7ff; text-decoration-color: #00d7ff\">None</span>, <span style=\"color: #00af00; text-decoration-color: #00af00\">111</span>, <span style=\"color: #00af00; text-decoration-color: #00af00\">111</span>, <span style=\"color: #00af00; text-decoration-color: #00af00\">32</span>)   │             <span style=\"color: #00af00; text-decoration-color: #00af00\">0</span> │\n",
              "├─────────────────────────────────┼────────────────────────┼───────────────┤\n",
              "│ conv2d_1 (<span style=\"color: #0087ff; text-decoration-color: #0087ff\">Conv2D</span>)               │ (<span style=\"color: #00d7ff; text-decoration-color: #00d7ff\">None</span>, <span style=\"color: #00af00; text-decoration-color: #00af00\">109</span>, <span style=\"color: #00af00; text-decoration-color: #00af00\">109</span>, <span style=\"color: #00af00; text-decoration-color: #00af00\">64</span>)   │        <span style=\"color: #00af00; text-decoration-color: #00af00\">18,496</span> │\n",
              "├─────────────────────────────────┼────────────────────────┼───────────────┤\n",
              "│ max_pooling2d_1 (<span style=\"color: #0087ff; text-decoration-color: #0087ff\">MaxPooling2D</span>)  │ (<span style=\"color: #00d7ff; text-decoration-color: #00d7ff\">None</span>, <span style=\"color: #00af00; text-decoration-color: #00af00\">54</span>, <span style=\"color: #00af00; text-decoration-color: #00af00\">54</span>, <span style=\"color: #00af00; text-decoration-color: #00af00\">64</span>)     │             <span style=\"color: #00af00; text-decoration-color: #00af00\">0</span> │\n",
              "├─────────────────────────────────┼────────────────────────┼───────────────┤\n",
              "│ conv2d_2 (<span style=\"color: #0087ff; text-decoration-color: #0087ff\">Conv2D</span>)               │ (<span style=\"color: #00d7ff; text-decoration-color: #00d7ff\">None</span>, <span style=\"color: #00af00; text-decoration-color: #00af00\">52</span>, <span style=\"color: #00af00; text-decoration-color: #00af00\">52</span>, <span style=\"color: #00af00; text-decoration-color: #00af00\">128</span>)    │        <span style=\"color: #00af00; text-decoration-color: #00af00\">73,856</span> │\n",
              "├─────────────────────────────────┼────────────────────────┼───────────────┤\n",
              "│ max_pooling2d_2 (<span style=\"color: #0087ff; text-decoration-color: #0087ff\">MaxPooling2D</span>)  │ (<span style=\"color: #00d7ff; text-decoration-color: #00d7ff\">None</span>, <span style=\"color: #00af00; text-decoration-color: #00af00\">26</span>, <span style=\"color: #00af00; text-decoration-color: #00af00\">26</span>, <span style=\"color: #00af00; text-decoration-color: #00af00\">128</span>)    │             <span style=\"color: #00af00; text-decoration-color: #00af00\">0</span> │\n",
              "├─────────────────────────────────┼────────────────────────┼───────────────┤\n",
              "│ flatten (<span style=\"color: #0087ff; text-decoration-color: #0087ff\">Flatten</span>)               │ (<span style=\"color: #00d7ff; text-decoration-color: #00d7ff\">None</span>, <span style=\"color: #00af00; text-decoration-color: #00af00\">86528</span>)          │             <span style=\"color: #00af00; text-decoration-color: #00af00\">0</span> │\n",
              "├─────────────────────────────────┼────────────────────────┼───────────────┤\n",
              "│ dense (<span style=\"color: #0087ff; text-decoration-color: #0087ff\">Dense</span>)                   │ (<span style=\"color: #00d7ff; text-decoration-color: #00d7ff\">None</span>, <span style=\"color: #00af00; text-decoration-color: #00af00\">128</span>)            │    <span style=\"color: #00af00; text-decoration-color: #00af00\">11,075,712</span> │\n",
              "├─────────────────────────────────┼────────────────────────┼───────────────┤\n",
              "│ dense_1 (<span style=\"color: #0087ff; text-decoration-color: #0087ff\">Dense</span>)                 │ (<span style=\"color: #00d7ff; text-decoration-color: #00d7ff\">None</span>, <span style=\"color: #00af00; text-decoration-color: #00af00\">3</span>)              │           <span style=\"color: #00af00; text-decoration-color: #00af00\">387</span> │\n",
              "└─────────────────────────────────┴────────────────────────┴───────────────┘\n",
              "</pre>\n"
            ],
            "text/plain": [
              "┏━━━━━━━━━━━━━━━━━━━━━━━━━━━━━━━━━┳━━━━━━━━━━━━━━━━━━━━━━━━┳━━━━━━━━━━━━━━━┓\n",
              "┃\u001b[1m \u001b[0m\u001b[1mLayer (type)                   \u001b[0m\u001b[1m \u001b[0m┃\u001b[1m \u001b[0m\u001b[1mOutput Shape          \u001b[0m\u001b[1m \u001b[0m┃\u001b[1m \u001b[0m\u001b[1m      Param #\u001b[0m\u001b[1m \u001b[0m┃\n",
              "┡━━━━━━━━━━━━━━━━━━━━━━━━━━━━━━━━━╇━━━━━━━━━━━━━━━━━━━━━━━━╇━━━━━━━━━━━━━━━┩\n",
              "│ conv2d (\u001b[38;5;33mConv2D\u001b[0m)                 │ (\u001b[38;5;45mNone\u001b[0m, \u001b[38;5;34m222\u001b[0m, \u001b[38;5;34m222\u001b[0m, \u001b[38;5;34m32\u001b[0m)   │           \u001b[38;5;34m896\u001b[0m │\n",
              "├─────────────────────────────────┼────────────────────────┼───────────────┤\n",
              "│ max_pooling2d (\u001b[38;5;33mMaxPooling2D\u001b[0m)    │ (\u001b[38;5;45mNone\u001b[0m, \u001b[38;5;34m111\u001b[0m, \u001b[38;5;34m111\u001b[0m, \u001b[38;5;34m32\u001b[0m)   │             \u001b[38;5;34m0\u001b[0m │\n",
              "├─────────────────────────────────┼────────────────────────┼───────────────┤\n",
              "│ conv2d_1 (\u001b[38;5;33mConv2D\u001b[0m)               │ (\u001b[38;5;45mNone\u001b[0m, \u001b[38;5;34m109\u001b[0m, \u001b[38;5;34m109\u001b[0m, \u001b[38;5;34m64\u001b[0m)   │        \u001b[38;5;34m18,496\u001b[0m │\n",
              "├─────────────────────────────────┼────────────────────────┼───────────────┤\n",
              "│ max_pooling2d_1 (\u001b[38;5;33mMaxPooling2D\u001b[0m)  │ (\u001b[38;5;45mNone\u001b[0m, \u001b[38;5;34m54\u001b[0m, \u001b[38;5;34m54\u001b[0m, \u001b[38;5;34m64\u001b[0m)     │             \u001b[38;5;34m0\u001b[0m │\n",
              "├─────────────────────────────────┼────────────────────────┼───────────────┤\n",
              "│ conv2d_2 (\u001b[38;5;33mConv2D\u001b[0m)               │ (\u001b[38;5;45mNone\u001b[0m, \u001b[38;5;34m52\u001b[0m, \u001b[38;5;34m52\u001b[0m, \u001b[38;5;34m128\u001b[0m)    │        \u001b[38;5;34m73,856\u001b[0m │\n",
              "├─────────────────────────────────┼────────────────────────┼───────────────┤\n",
              "│ max_pooling2d_2 (\u001b[38;5;33mMaxPooling2D\u001b[0m)  │ (\u001b[38;5;45mNone\u001b[0m, \u001b[38;5;34m26\u001b[0m, \u001b[38;5;34m26\u001b[0m, \u001b[38;5;34m128\u001b[0m)    │             \u001b[38;5;34m0\u001b[0m │\n",
              "├─────────────────────────────────┼────────────────────────┼───────────────┤\n",
              "│ flatten (\u001b[38;5;33mFlatten\u001b[0m)               │ (\u001b[38;5;45mNone\u001b[0m, \u001b[38;5;34m86528\u001b[0m)          │             \u001b[38;5;34m0\u001b[0m │\n",
              "├─────────────────────────────────┼────────────────────────┼───────────────┤\n",
              "│ dense (\u001b[38;5;33mDense\u001b[0m)                   │ (\u001b[38;5;45mNone\u001b[0m, \u001b[38;5;34m128\u001b[0m)            │    \u001b[38;5;34m11,075,712\u001b[0m │\n",
              "├─────────────────────────────────┼────────────────────────┼───────────────┤\n",
              "│ dense_1 (\u001b[38;5;33mDense\u001b[0m)                 │ (\u001b[38;5;45mNone\u001b[0m, \u001b[38;5;34m3\u001b[0m)              │           \u001b[38;5;34m387\u001b[0m │\n",
              "└─────────────────────────────────┴────────────────────────┴───────────────┘\n"
            ]
          },
          "metadata": {},
          "output_type": "display_data"
        },
        {
          "data": {
            "text/html": [
              "<pre style=\"white-space:pre;overflow-x:auto;line-height:normal;font-family:Menlo,'DejaVu Sans Mono',consolas,'Courier New',monospace\"><span style=\"font-weight: bold\"> Total params: </span><span style=\"color: #00af00; text-decoration-color: #00af00\">11,169,347</span> (42.61 MB)\n",
              "</pre>\n"
            ],
            "text/plain": [
              "\u001b[1m Total params: \u001b[0m\u001b[38;5;34m11,169,347\u001b[0m (42.61 MB)\n"
            ]
          },
          "metadata": {},
          "output_type": "display_data"
        },
        {
          "data": {
            "text/html": [
              "<pre style=\"white-space:pre;overflow-x:auto;line-height:normal;font-family:Menlo,'DejaVu Sans Mono',consolas,'Courier New',monospace\"><span style=\"font-weight: bold\"> Trainable params: </span><span style=\"color: #00af00; text-decoration-color: #00af00\">11,169,347</span> (42.61 MB)\n",
              "</pre>\n"
            ],
            "text/plain": [
              "\u001b[1m Trainable params: \u001b[0m\u001b[38;5;34m11,169,347\u001b[0m (42.61 MB)\n"
            ]
          },
          "metadata": {},
          "output_type": "display_data"
        },
        {
          "data": {
            "text/html": [
              "<pre style=\"white-space:pre;overflow-x:auto;line-height:normal;font-family:Menlo,'DejaVu Sans Mono',consolas,'Courier New',monospace\"><span style=\"font-weight: bold\"> Non-trainable params: </span><span style=\"color: #00af00; text-decoration-color: #00af00\">0</span> (0.00 B)\n",
              "</pre>\n"
            ],
            "text/plain": [
              "\u001b[1m Non-trainable params: \u001b[0m\u001b[38;5;34m0\u001b[0m (0.00 B)\n"
            ]
          },
          "metadata": {},
          "output_type": "display_data"
        },
        {
          "name": "stdout",
          "output_type": "stream",
          "text": [
            "Epoch 1/10\n",
            "\u001b[1m17/17\u001b[0m \u001b[32m━━━━━━━━━━━━━━━━━━━━\u001b[0m\u001b[37m\u001b[0m \u001b[1m36s\u001b[0m 2s/step - accuracy: 0.6084 - loss: 0.9859 - val_accuracy: 0.7658 - val_loss: 0.5685\n",
            "Epoch 2/10\n",
            "\u001b[1m17/17\u001b[0m \u001b[32m━━━━━━━━━━━━━━━━━━━━\u001b[0m\u001b[37m\u001b[0m \u001b[1m34s\u001b[0m 2s/step - accuracy: 0.7924 - loss: 0.4698 - val_accuracy: 0.8559 - val_loss: 0.3852\n",
            "Epoch 3/10\n",
            "\u001b[1m17/17\u001b[0m \u001b[32m━━━━━━━━━━━━━━━━━━━━\u001b[0m\u001b[37m\u001b[0m \u001b[1m38s\u001b[0m 2s/step - accuracy: 0.8459 - loss: 0.3591 - val_accuracy: 0.8378 - val_loss: 0.3063\n",
            "Epoch 4/10\n",
            "\u001b[1m17/17\u001b[0m \u001b[32m━━━━━━━━━━━━━━━━━━━━\u001b[0m\u001b[37m\u001b[0m \u001b[1m34s\u001b[0m 2s/step - accuracy: 0.8697 - loss: 0.3085 - val_accuracy: 0.8649 - val_loss: 0.2762\n",
            "Epoch 5/10\n",
            "\u001b[1m17/17\u001b[0m \u001b[32m━━━━━━━━━━━━━━━━━━━━\u001b[0m\u001b[37m\u001b[0m \u001b[1m34s\u001b[0m 2s/step - accuracy: 0.9056 - loss: 0.2417 - val_accuracy: 0.8739 - val_loss: 0.2762\n",
            "Epoch 6/10\n",
            "\u001b[1m17/17\u001b[0m \u001b[32m━━━━━━━━━━━━━━━━━━━━\u001b[0m\u001b[37m\u001b[0m \u001b[1m41s\u001b[0m 2s/step - accuracy: 0.9164 - loss: 0.1950 - val_accuracy: 0.8919 - val_loss: 0.2100\n",
            "Epoch 7/10\n",
            "\u001b[1m17/17\u001b[0m \u001b[32m━━━━━━━━━━━━━━━━━━━━\u001b[0m\u001b[37m\u001b[0m \u001b[1m41s\u001b[0m 2s/step - accuracy: 0.9713 - loss: 0.0981 - val_accuracy: 0.9099 - val_loss: 0.2405\n",
            "Epoch 8/10\n",
            "\u001b[1m17/17\u001b[0m \u001b[32m━━━━━━━━━━━━━━━━━━━━\u001b[0m\u001b[37m\u001b[0m \u001b[1m41s\u001b[0m 2s/step - accuracy: 0.9666 - loss: 0.0919 - val_accuracy: 0.8919 - val_loss: 0.3023\n",
            "Epoch 9/10\n",
            "\u001b[1m17/17\u001b[0m \u001b[32m━━━━━━━━━━━━━━━━━━━━\u001b[0m\u001b[37m\u001b[0m \u001b[1m34s\u001b[0m 2s/step - accuracy: 0.9873 - loss: 0.0455 - val_accuracy: 0.9099 - val_loss: 0.2383\n",
            "Epoch 10/10\n",
            "\u001b[1m17/17\u001b[0m \u001b[32m━━━━━━━━━━━━━━━━━━━━\u001b[0m\u001b[37m\u001b[0m \u001b[1m34s\u001b[0m 2s/step - accuracy: 0.9977 - loss: 0.0296 - val_accuracy: 0.8468 - val_loss: 0.5830\n"
          ]
        }
      ],
      "source": [
        "\n",
        "from tensorflow.keras.models import Sequential\n",
        "from tensorflow.keras.layers import Conv2D, MaxPooling2D, Flatten, Dense\n",
        "\n",
        "# Define the model\n",
        "model = Sequential([\n",
        "    Conv2D(32, (3, 3), activation='relu', input_shape=(IMG_SIZE[0], IMG_SIZE[1], 3)),\n",
        "    MaxPooling2D((2, 2)),\n",
        "    Conv2D(64, (3, 3), activation='relu'),\n",
        "    MaxPooling2D((2, 2)),\n",
        "    Conv2D(128, (3, 3), activation='relu'),\n",
        "    MaxPooling2D((2, 2)),\n",
        "    Flatten(),\n",
        "    Dense(128, activation='relu'),\n",
        "    Dense(3, activation='softmax') # Output layer with 3 units for 3 classes and softmax activation\n",
        "])\n",
        "\n",
        "# Compile the model\n",
        "model.compile(optimizer='adam',\n",
        "              loss='sparse_categorical_crossentropy', # Use sparse_categorical_crossentropy for integer labels\n",
        "              metrics=['accuracy'])\n",
        "\n",
        "# Print the model summary\n",
        "model.summary()\n",
        "\n",
        "# Train the model\n",
        "epochs = 10  # You can adjust the number of epochs\n",
        "history = model.fit(\n",
        "    train_ds,\n",
        "    validation_data=val_ds,\n",
        "    epochs=epochs\n",
        ")"
      ]
    },
    {
      "cell_type": "code",
      "execution_count": null,
      "id": "dbc4d494",
      "metadata": {
        "colab": {
          "base_uri": "https://localhost:8080/"
        },
        "id": "dbc4d494",
        "outputId": "48565663-aba3-49b3-b343-b66a66a51255"
      },
      "outputs": [
        {
          "name": "stdout",
          "output_type": "stream",
          "text": [
            "\u001b[1m4/4\u001b[0m \u001b[32m━━━━━━━━━━━━━━━━━━━━\u001b[0m\u001b[37m\u001b[0m \u001b[1m2s\u001b[0m 475ms/step - accuracy: 0.8961 - loss: 0.7967\n",
            "Test Loss: 1.1610462665557861\n",
            "Test Accuracy: 0.852173924446106\n"
          ]
        }
      ],
      "source": [
        "\n",
        "loss, accuracy = model.evaluate(test_ds)\n",
        "\n",
        "print(f\"Test Loss: {loss}\")\n",
        "print(f\"Test Accuracy: {accuracy}\")"
      ]
    },
    {
      "cell_type": "code",
      "execution_count": null,
      "id": "1eCcSGa43iGu",
      "metadata": {
        "colab": {
          "base_uri": "https://localhost:8080/"
        },
        "id": "1eCcSGa43iGu",
        "outputId": "adbe16ba-d46a-4ae2-d68e-d20a8bb47bc7"
      },
      "outputs": [
        {
          "name": "stdout",
          "output_type": "stream",
          "text": [
            "Collecting vscode_colab\n",
            "  Downloading vscode_colab-0.3.1-py3-none-any.whl.metadata (8.1 kB)\n",
            "Requirement already satisfied: requests in /usr/local/lib/python3.12/dist-packages (from vscode_colab) (2.32.4)\n",
            "Requirement already satisfied: ipython in /usr/local/lib/python3.12/dist-packages (from vscode_colab) (7.34.0)\n",
            "Requirement already satisfied: jinja2 in /usr/local/lib/python3.12/dist-packages (from vscode_colab) (3.1.6)\n",
            "Collecting loguru (from vscode_colab)\n",
            "  Downloading loguru-0.7.3-py3-none-any.whl.metadata (22 kB)\n",
            "Requirement already satisfied: setuptools>=18.5 in /usr/local/lib/python3.12/dist-packages (from ipython->vscode_colab) (75.2.0)\n",
            "Collecting jedi>=0.16 (from ipython->vscode_colab)\n",
            "  Downloading jedi-0.19.2-py2.py3-none-any.whl.metadata (22 kB)\n",
            "Requirement already satisfied: decorator in /usr/local/lib/python3.12/dist-packages (from ipython->vscode_colab) (4.4.2)\n",
            "Requirement already satisfied: pickleshare in /usr/local/lib/python3.12/dist-packages (from ipython->vscode_colab) (0.7.5)\n",
            "Requirement already satisfied: traitlets>=4.2 in /usr/local/lib/python3.12/dist-packages (from ipython->vscode_colab) (5.7.1)\n",
            "Requirement already satisfied: prompt-toolkit!=3.0.0,!=3.0.1,<3.1.0,>=2.0.0 in /usr/local/lib/python3.12/dist-packages (from ipython->vscode_colab) (3.0.52)\n",
            "Requirement already satisfied: pygments in /usr/local/lib/python3.12/dist-packages (from ipython->vscode_colab) (2.19.2)\n",
            "Requirement already satisfied: backcall in /usr/local/lib/python3.12/dist-packages (from ipython->vscode_colab) (0.2.0)\n",
            "Requirement already satisfied: matplotlib-inline in /usr/local/lib/python3.12/dist-packages (from ipython->vscode_colab) (0.1.7)\n",
            "Requirement already satisfied: pexpect>4.3 in /usr/local/lib/python3.12/dist-packages (from ipython->vscode_colab) (4.9.0)\n",
            "Requirement already satisfied: MarkupSafe>=2.0 in /usr/local/lib/python3.12/dist-packages (from jinja2->vscode_colab) (3.0.3)\n",
            "Requirement already satisfied: charset_normalizer<4,>=2 in /usr/local/lib/python3.12/dist-packages (from requests->vscode_colab) (3.4.3)\n",
            "Requirement already satisfied: idna<4,>=2.5 in /usr/local/lib/python3.12/dist-packages (from requests->vscode_colab) (3.10)\n",
            "Requirement already satisfied: urllib3<3,>=1.21.1 in /usr/local/lib/python3.12/dist-packages (from requests->vscode_colab) (2.5.0)\n",
            "Requirement already satisfied: certifi>=2017.4.17 in /usr/local/lib/python3.12/dist-packages (from requests->vscode_colab) (2025.8.3)\n",
            "Requirement already satisfied: parso<0.9.0,>=0.8.4 in /usr/local/lib/python3.12/dist-packages (from jedi>=0.16->ipython->vscode_colab) (0.8.5)\n",
            "Requirement already satisfied: ptyprocess>=0.5 in /usr/local/lib/python3.12/dist-packages (from pexpect>4.3->ipython->vscode_colab) (0.7.0)\n",
            "Requirement already satisfied: wcwidth in /usr/local/lib/python3.12/dist-packages (from prompt-toolkit!=3.0.0,!=3.0.1,<3.1.0,>=2.0.0->ipython->vscode_colab) (0.2.14)\n",
            "Downloading vscode_colab-0.3.1-py3-none-any.whl (33 kB)\n",
            "Downloading loguru-0.7.3-py3-none-any.whl (61 kB)\n",
            "\u001b[2K   \u001b[90m━━━━━━━━━━━━━━━━━━━━━━━━━━━━━━━━━━━━━━━━\u001b[0m \u001b[32m61.6/61.6 kB\u001b[0m \u001b[31m4.7 MB/s\u001b[0m eta \u001b[36m0:00:00\u001b[0m\n",
            "\u001b[?25hDownloading jedi-0.19.2-py2.py3-none-any.whl (1.6 MB)\n",
            "\u001b[2K   \u001b[90m━━━━━━━━━━━━━━━━━━━━━━━━━━━━━━━━━━━━━━━━\u001b[0m \u001b[32m1.6/1.6 MB\u001b[0m \u001b[31m27.5 MB/s\u001b[0m eta \u001b[36m0:00:00\u001b[0m\n",
            "\u001b[?25hInstalling collected packages: loguru, jedi, vscode_colab\n",
            "Successfully installed jedi-0.19.2 loguru-0.7.3 vscode_colab-0.3.1\n"
          ]
        }
      ],
      "source": [
        "        !pip install vscode_colab\n"
      ]
    },
    {
      "cell_type": "code",
      "execution_count": null,
      "id": "e_ZEOMOD3na0",
      "metadata": {
        "colab": {
          "base_uri": "https://localhost:8080/",
          "height": 392
        },
        "id": "e_ZEOMOD3na0",
        "outputId": "09ecf0af-72f7-4435-d38c-269231fb7136"
      },
      "outputs": [
        {
          "name": "stderr",
          "output_type": "stream",
          "text": [
            "\u001b[32m2025-10-05 14:55:06\u001b[0m | \u001b[1mINFO    \u001b[0m | \u001b[36mvscode_colab.server:download_vscode_cli:74\u001b[0m - \u001b[1mDownloading VS Code CLI (cli-alpine-x64) to /content/vscode_cli_alpine_x64.tar.gz...\u001b[0m\n",
            "\u001b[32m2025-10-05 14:55:07\u001b[0m | \u001b[1mINFO    \u001b[0m | \u001b[36mvscode_colab.server:download_vscode_cli:87\u001b[0m - \u001b[1mVS Code CLI tarball downloaded. Extracting...\u001b[0m\n",
            "\u001b[32m2025-10-05 14:55:08\u001b[0m | \u001b[1mINFO    \u001b[0m | \u001b[36mvscode_colab.server:download_vscode_cli:171\u001b[0m - \u001b[1mVS Code CLI setup successful. Executable at: '/content/code'.\u001b[0m\n",
            "\u001b[32m2025-10-05 14:55:08\u001b[0m | \u001b[1mINFO    \u001b[0m | \u001b[36mvscode_colab.server:_login:220\u001b[0m - \u001b[1mInitiating VS Code Tunnel login with command: /content/code tunnel user login --provider github\u001b[0m\n",
            "\u001b[32m2025-10-05 14:55:08\u001b[0m | \u001b[1mINFO    \u001b[0m | \u001b[36mvscode_colab.server:_login:254\u001b[0m - \u001b[1mMonitoring login process output for GitHub authentication URL and code...\u001b[0m\n",
            "\u001b[32m2025-10-05 14:55:09\u001b[0m | \u001b[1mINFO    \u001b[0m | \u001b[36mvscode_colab.server:_login:272\u001b[0m - \u001b[1mDetected authentication URL: https://github.com/login/device\u001b[0m\n",
            "\u001b[32m2025-10-05 14:55:09\u001b[0m | \u001b[1mINFO    \u001b[0m | \u001b[36mvscode_colab.server:_login:278\u001b[0m - \u001b[1mDetected authentication code: 6051-6A24\u001b[0m\n",
            "\u001b[32m2025-10-05 14:55:09\u001b[0m | \u001b[1mINFO    \u001b[0m | \u001b[36mvscode_colab.server:_login:281\u001b[0m - \u001b[1mAuthentication URL and code detected. Displaying to user.\u001b[0m\n"
          ]
        },
        {
          "data": {
            "text/html": [
              "<div style=\"padding: 15px; background-color: #f0f7ff; border-radius: 8px; margin: 15px 0; font-family: Arial, sans-serif; border: 1px solid #c8e1ff; line-height: 1.6;\">\n",
              "    <h3 style=\"margin-top: 0; color: #0366d6; font-size: 18px;\">GitHub Authentication Required</h3>\n",
              "    <p style=\"margin-bottom: 15px; color: #333333;\">Please open the link below in a new tab and enter the following code:</p>\n",
              "    <div style=\"display: flex; align-items: center; margin-bottom: 15px; flex-wrap: wrap; gap: 15px;\">\n",
              "        <a href=\"https://github.com/login/device\" target=\"_blank\"\n",
              "            style=\"background-color: #2ea44f; color: white; padding: 10px 16px; text-decoration: none; border-radius: 6px; font-weight: 500; white-space: nowrap;\">\n",
              "            Open GitHub Authentication Page\n",
              "        </a>\n",
              "        <div id=\"code-container\" style=\"background-color: #ffffff; border: 1px solid #d1d5da; border-radius: 6px; padding: 10px 16px; font-family: 'SFMono-Regular', Consolas, 'Liberation Mono', Menlo, monospace; display: flex; align-items: center;\">\n",
              "            <span id=\"auth-code\" style=\"margin-right: 15px; font-size: 16px; user-select: all; color: #24292e;\">6051-6A24</span>\n",
              "        </div>\n",
              "    </div>\n",
              "    <p id=\"copy-fallback-note\" style=\"font-size: small; color: #586069; margin-top: 10px; display: none;\">\n",
              "        Please select the code manually and copy it.\n",
              "    </p>\n",
              "    <script>\n",
              "        (function() {\n",
              "            // The Jinja2 'tojson' filter correctly escapes the string for JavaScript.\n",
              "            const codeToCopy = \"6051-6A24\";\n",
              "            const codeContainer = document.getElementById('code-container');\n",
              "            const fallbackNote = document.getElementById('copy-fallback-note');\n",
              "\n",
              "            function attemptCopy() {\n",
              "                const copyButton = document.getElementById('dynamicCopyButton');\n",
              "                if (!copyButton) return;\n",
              "\n",
              "                navigator.clipboard.writeText(codeToCopy).then(() => {\n",
              "                    copyButton.textContent = 'Copied!';\n",
              "                    copyButton.style.backgroundColor = '#dff0d8';\n",
              "                    copyButton.style.borderColor = '#d6e9c6';\n",
              "                    copyButton.style.color = '#3c763d';\n",
              "                    setTimeout(() => {\n",
              "                        copyButton.textContent = 'Copy';\n",
              "                        copyButton.style.backgroundColor = '#f6f8fa';\n",
              "                        copyButton.style.borderColor = '#d1d5da';\n",
              "                        copyButton.style.color = '';\n",
              "                    }, 2500);\n",
              "                }).catch(err => {\n",
              "                    console.error('Failed to copy code automatically: ', err);\n",
              "                    copyButton.textContent = 'Copy Failed';\n",
              "                    copyButton.disabled = true;\n",
              "                    copyButton.style.backgroundColor = '#f2dede';\n",
              "                    copyButton.style.borderColor = '#ebccd1';\n",
              "                    copyButton.style.color = '#a94442';\n",
              "                    fallbackNote.style.display = 'block';\n",
              "                });\n",
              "            }\n",
              "\n",
              "            if (navigator.clipboard && navigator.clipboard.writeText) {\n",
              "                const button = document.createElement('button');\n",
              "                button.id = 'dynamicCopyButton';\n",
              "                button.textContent = 'Copy';\n",
              "                button.style.backgroundColor = '#f6f8fa';\n",
              "                button.style.border = '1px solid #d1d5da';\n",
              "                button.style.borderRadius = '6px';\n",
              "                button.style.padding = '6px 12px';\n",
              "                button.style.cursor = 'pointer';\n",
              "                button.style.fontSize = '14px';\n",
              "                button.style.whiteSpace = 'nowrap';\n",
              "                button.style.marginLeft = '10px';\n",
              "                button.onclick = attemptCopy;\n",
              "                codeContainer.appendChild(button);\n",
              "            } else {\n",
              "                fallbackNote.style.display = 'block';\n",
              "            }\n",
              "        })();\n",
              "    </script>\n",
              "</div>"
            ],
            "text/plain": [
              "<IPython.core.display.HTML object>"
            ]
          },
          "metadata": {},
          "output_type": "display_data"
        },
        {
          "name": "stderr",
          "output_type": "stream",
          "text": [
            "\u001b[32m2025-10-05 14:55:09\u001b[0m | \u001b[1mINFO    \u001b[0m | \u001b[36mvscode_colab.server:login:200\u001b[0m - \u001b[1mLogin successful: Set environment variable VSCODE_COLAB_LOGGED_IN=true\u001b[0m\n"
          ]
        },
        {
          "data": {
            "text/plain": [
              "True"
            ]
          },
          "execution_count": 8,
          "metadata": {},
          "output_type": "execute_result"
        }
      ],
      "source": [
        "        import vscode_colab\n",
        "        vscode_colab.login()\n"
      ]
    },
    {
      "cell_type": "code",
      "execution_count": null,
      "id": "jWlrgykS3zbZ",
      "metadata": {
        "colab": {
          "background_save": true,
          "base_uri": "https://localhost:8080/"
        },
        "id": "jWlrgykS3zbZ",
        "outputId": "ef109638-cebc-4d56-c165-4a36c776b31a"
      },
      "outputs": [
        {
          "name": "stderr",
          "output_type": "stream",
          "text": [
            "\u001b[32m2025-10-05 14:56:35\u001b[0m | \u001b[1mINFO    \u001b[0m | \u001b[36mvscode_colab.server:connect:579\u001b[0m - \u001b[1mInitial CWD for connect operation: /content\u001b[0m\n",
            "\u001b[32m2025-10-05 14:56:35\u001b[0m | \u001b[1mINFO    \u001b[0m | \u001b[36mvscode_colab.server:download_vscode_cli:58\u001b[0m - \u001b[1mVS Code CLI already exists and is executable at /content/code. Skipping download.\u001b[0m\n",
            "\u001b[32m2025-10-05 14:56:35\u001b[0m | \u001b[1mINFO    \u001b[0m | \u001b[36mvscode_colab.environment.git_handler:configure_git:27\u001b[0m - \u001b[1mAttempting to set git global user.name='RigbeWeleslasie' and user.email='rigbewweleslasie@gmail.com'...\u001b[0m\n",
            "\u001b[32m2025-10-05 14:56:35\u001b[0m | \u001b[1mINFO    \u001b[0m | \u001b[36mvscode_colab.environment.git_handler:configure_git:53\u001b[0m - \u001b[1mSuccessfully set git global user.name='RigbeWeleslasie'.\u001b[0m\n",
            "\u001b[32m2025-10-05 14:56:35\u001b[0m | \u001b[1mINFO    \u001b[0m | \u001b[36mvscode_colab.environment.git_handler:configure_git:88\u001b[0m - \u001b[1mSuccessfully set git global user.email='rigbewweleslasie@gmail.com'.\u001b[0m\n",
            "\u001b[32m2025-10-05 14:56:35\u001b[0m | \u001b[1mINFO    \u001b[0m | \u001b[36mvscode_colab.server:_launch_and_monitor_tunnel:457\u001b[0m - \u001b[1mStarting VS Code tunnel with command: /content/code tunnel --accept-server-license-terms --name my-tunnel --install-extension mgesbert.python-path --install-extension ms-python.black-formatter --install-extension ms-python.debugpy --install-extension ms-python.isort --install-extension ms-python.python --install-extension ms-python.vscode-pylance --install-extension ms-toolsai.jupyter --install-extension ms-toolsai.jupyter-keymap --install-extension ms-toolsai.jupyter-renderers --install-extension ms-toolsai.tensorboard\u001b[0m\n",
            "\u001b[32m2025-10-05 14:56:35\u001b[0m | \u001b[1mINFO    \u001b[0m | \u001b[36mvscode_colab.server:_launch_and_monitor_tunnel:458\u001b[0m - \u001b[1mTunnel will run with CWD: /content\u001b[0m\n",
            "\u001b[32m2025-10-05 14:56:35\u001b[0m | \u001b[1mINFO    \u001b[0m | \u001b[36mvscode_colab.server:_launch_and_monitor_tunnel:483\u001b[0m - \u001b[1mMonitoring tunnel 'my-tunnel' process output for connection URL...\u001b[0m\n",
            "\u001b[32m2025-10-05 15:11:38\u001b[0m | \u001b[31m\u001b[1mERROR   \u001b[0m | \u001b[36mvscode_colab.server:_launch_and_monitor_tunnel:488\u001b[0m - \u001b[31m\u001b[1mTunnel URL for 'my-tunnel' not detected within 60s. Timing out.\u001b[0m\n",
            "\u001b[32m2025-10-05 15:11:38\u001b[0m | \u001b[31m\u001b[1mERROR   \u001b[0m | \u001b[36mvscode_colab.server:connect:624\u001b[0m - \u001b[31m\u001b[1mFailed to establish VS Code tunnel 'my-tunnel'.\u001b[0m\n"
          ]
        }
      ],
      "source": [
        "        vscode_colab.connect(name=\"my-tunnel\", git_user_name=\"RigbeWeleslasie\", git_user_email=\"rigbewweleslasie@gmail.com\")"
      ]
    },
    {
      "cell_type": "code",
      "execution_count": null,
      "id": "AuKjjxp734Qc",
      "metadata": {
        "id": "AuKjjxp734Qc"
      },
      "outputs": [],
      "source": []
    }
  ],
  "metadata": {
    "colab": {
      "provenance": [],
      "include_colab_link": true
    },
    "kernelspec": {
      "display_name": "Python 3 (ipykernel)",
      "language": "python",
      "name": "python3"
    },
    "language_info": {
      "codemirror_mode": {
        "name": "ipython",
        "version": 3
      },
      "file_extension": ".py",
      "mimetype": "text/x-python",
      "name": "python",
      "nbconvert_exporter": "python",
      "pygments_lexer": "ipython3",
      "version": "3.13.4"
    }
  },
  "nbformat": 4,
  "nbformat_minor": 5
}